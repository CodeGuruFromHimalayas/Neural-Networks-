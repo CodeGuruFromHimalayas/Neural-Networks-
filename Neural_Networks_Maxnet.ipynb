{
  "nbformat": 4,
  "nbformat_minor": 0,
  "metadata": {
    "colab": {
      "name": "FLNN maxnet.ipynb",
      "provenance": [],
      "collapsed_sections": []
    },
    "kernelspec": {
      "name": "python3",
      "display_name": "Python 3"
    }
  },
  "cells": [
    {
      "cell_type": "code",
      "metadata": {
        "id": "XK5f_KWpq08g"
      },
      "source": [
        "def update(x,w):#function to update the values of Nodes  \r\n",
        "   sum=[]  \r\n",
        "   for i in x:\r\n",
        "      temp_sum=i\r\n",
        "      for j in x:\r\n",
        "        if (x.index(j)!=x.index(i)):\r\n",
        "          temp_sum=temp_sum-w*j\r\n",
        "      sum.append(temp_sum)\r\n",
        "   return sum   "
      ],
      "execution_count": null,
      "outputs": []
    },
    {
      "cell_type": "code",
      "metadata": {
        "id": "Gxef5Ezzr88p"
      },
      "source": [
        "def Maxcompare(xin):#Checking of value of Nodes is greater than 0 \r\n",
        "   activation_list=[]\r\n",
        "   for i in xin:\r\n",
        "     if (i>0):\r\n",
        "      activation_list.append(i)\r\n",
        "     else:\r\n",
        "      activation_list.append(0)   \r\n",
        "   return activation_list"
      ],
      "execution_count": null,
      "outputs": []
    },
    {
      "cell_type": "code",
      "metadata": {
        "id": "Z5fc-OeyvZoC"
      },
      "source": [
        "def MaxNet():\r\n",
        "   n=int(input(\"Enter the number of nodes: \"))\r\n",
        "   x=[]\r\n",
        "   for i in range(n):\r\n",
        "     x.append(float(input(\"Enter the value of node \"+str(i+1)+\":\")))\r\n",
        "   a=1\r\n",
        "   w=0\r\n",
        "   while (a==1):\r\n",
        "     w=float(input(\"Enter the fixed weight to be assigned: \"))\r\n",
        "     if (0<w and w<(1/n)):\r\n",
        "       a=0\r\n",
        "     else:\r\n",
        "       print(\"Please enter a number within the range 0 to \"+str(1/n))  \r\n",
        "   c=x.count(0)\r\n",
        "   temp=x\r\n",
        "   count=0\r\n",
        "   epoch=int(input(\"Enter number of epochs: \")) #To make sure program doesn't go on too long if learning rate is small\r\n",
        "   for i in range(epoch):\r\n",
        "        if (c<=n-1):\r\n",
        "          a_list=update(temp,w) #calculating activation values \r\n",
        "          print(\"For epoch \"+str(count)+\" activation values are is: \"+str(a_list)+\"\\n\")\r\n",
        "          op=Maxcompare(a_list)\r\n",
        "          temp=op\r\n",
        "          c=temp.count(0)\r\n",
        "          count+=1\r\n",
        "          print(\"For epoch \"+str(count)+\" result is: \"+str(temp)+\"\\n\")\r\n",
        "        else:\r\n",
        "          break   \r\n",
        "   print(\"Node number \"+str(temp.index(max(temp))+1)+\" is the winner\")  "
      ],
      "execution_count": null,
      "outputs": []
    },
    {
      "cell_type": "code",
      "metadata": {
        "id": "mUBy19HB8LIC",
        "colab": {
          "base_uri": "https://localhost:8080/"
        },
        "outputId": "49522694-aeab-401a-d123-a9a042e32840"
      },
      "source": [
        "MaxNet()"
      ],
      "execution_count": null,
      "outputs": [
        {
          "output_type": "stream",
          "text": [
            "Enter the number of nodes: 3\n",
            "Enter the value of node 1:0.5\n",
            "Enter the value of node 2:0.6\n",
            "Enter the value of node 3:0.2\n",
            "Enter the fixed weight to be assigned: 0.15\n",
            "Enter number of epochs: 10\n",
            "For epoch 0 activation values are is: [0.38, 0.495, 0.035]\n",
            "\n",
            "For epoch 1 result is: [0.38, 0.495, 0.035]\n",
            "\n",
            "For epoch 1 activation values are is: [0.30050000000000004, 0.43275, -0.09624999999999999]\n",
            "\n",
            "For epoch 2 result is: [0.30050000000000004, 0.43275, 0]\n",
            "\n",
            "For epoch 2 activation values are is: [0.23558750000000006, 0.387675, -0.1099875]\n",
            "\n",
            "For epoch 3 result is: [0.23558750000000006, 0.387675, 0]\n",
            "\n",
            "For epoch 3 activation values are is: [0.17743625000000007, 0.352336875, -0.093489375]\n",
            "\n",
            "For epoch 4 result is: [0.17743625000000007, 0.352336875, 0]\n",
            "\n",
            "For epoch 4 activation values are is: [0.12458571875000007, 0.3257214375, -0.07946596875]\n",
            "\n",
            "For epoch 5 result is: [0.12458571875000007, 0.3257214375, 0]\n",
            "\n",
            "For epoch 5 activation values are is: [0.07572750312500007, 0.3070335796875, -0.0675460734375]\n",
            "\n",
            "For epoch 6 result is: [0.07572750312500007, 0.3070335796875, 0]\n",
            "\n",
            "For epoch 6 activation values are is: [0.02967246617187507, 0.29567445421875, -0.057414162421875005]\n",
            "\n",
            "For epoch 7 result is: [0.02967246617187507, 0.29567445421875, 0]\n",
            "\n",
            "For epoch 7 activation values are is: [-0.01467870196093743, 0.29122358429296874, -0.04880203805859376]\n",
            "\n",
            "For epoch 8 result is: [0, 0.29122358429296874, 0]\n",
            "\n",
            "For epoch 8 activation values are is: [-0.04368353764394531, 0.29122358429296874, -0.04368353764394531]\n",
            "\n",
            "For epoch 9 result is: [0, 0.29122358429296874, 0]\n",
            "\n",
            "For epoch 9 activation values are is: [-0.04368353764394531, 0.29122358429296874, -0.04368353764394531]\n",
            "\n",
            "For epoch 10 result is: [0, 0.29122358429296874, 0]\n",
            "\n",
            "Node number 2 is the winner\n"
          ],
          "name": "stdout"
        }
      ]
    },
    {
      "cell_type": "code",
      "metadata": {
        "id": "8zEyw9yxGjnq"
      },
      "source": [
        ""
      ],
      "execution_count": null,
      "outputs": []
    }
  ]
}