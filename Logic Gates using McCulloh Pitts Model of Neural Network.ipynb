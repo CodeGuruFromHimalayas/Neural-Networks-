{
  "nbformat": 4,
  "nbformat_minor": 0,
  "metadata": {
    "colab": {
      "name": "FLNN exp 5.ipynb",
      "provenance": [],
      "collapsed_sections": []
    },
    "kernelspec": {
      "name": "python3",
      "display_name": "Python 3"
    }
  },
  "cells": [
    {
      "cell_type": "code",
      "metadata": {
        "colab": {
          "base_uri": "https://localhost:8080/"
        },
        "id": "NDjjDmSKbuc1",
        "outputId": "c9de8341-7e88-42ec-e483-5e41bedb5a55"
      },
      "source": [
        "#Logic Gates using McCulloh Pitts Model of Neural Network\r\n",
        "w1=input(\"Enter weight 1: \")\r\n",
        "w2=input(\"Enter weight 2: \")\r\n",
        "th=input(\"Enter Threshold value: \")\r\n",
        "A=[0,1,0,1]\r\n",
        "B=[0,0,1,1]\r\n",
        "result_or=OrGate(w1,w2,th)\r\n",
        "print(\"Result of the Or gate is: \",result_or)\r\n",
        "result_not=NotGate(w1,th)\r\n",
        "print(\"Result of the Not gate is: \",result_not)\r\n",
        "result_and=AndGate(w1,w2,th)\r\n",
        "print(\"Result of the And gate is: \",result_and)\r\n",
        "result_Nand=NandGate(w1,w2,th)\r\n",
        "print(\"Result of the NAnd gate is: \",result_Nand)\r\n",
        "result_nor=NorGate(w1,w2,th)\r\n",
        "print(\"Result of the Nor gate is: \",result_nor)\r\n",
        "result_xor=XorGate(w1,w2,th)\r\n",
        "print(\"Result of the Xor gate is: \",result_xor)"
      ],
      "execution_count": null,
      "outputs": [
        {
          "output_type": "stream",
          "text": [
            "Enter weight 1: -3\n",
            "Enter weight 2: -3\n",
            "Enter Threshold value: -3\n",
            "Result of the Or gate is:  [0, 1, 1, 1]\n",
            "Result of the Not gate is:  [1, 0]\n",
            "Result of the And gate is:  [0, 0, 0, 1]\n",
            "Result of the NAnd gate is:  [1, 1, 1, 0]\n",
            "Result of the Nor gate is:  [1, 0, 0, 0]\n",
            "Result of the Xor gate is:  [0, 1, 1, 0]\n"
          ],
          "name": "stdout"
        }
      ]
    },
    {
      "cell_type": "code",
      "metadata": {
        "id": "xVHoZz2mdEUT"
      },
      "source": [
        "def OrGate(w1,w2,th):\r\n",
        "  result=[]\r\n",
        "  for i in range(len(A)):\r\n",
        "    sum=A[i]*w1+B[i]*w2\r\n",
        "    if (sum>=th):\r\n",
        "      result.append(1)\r\n",
        "    else:\r\n",
        "      result.append(0)\r\n",
        "  return result"
      ],
      "execution_count": null,
      "outputs": []
    },
    {
      "cell_type": "code",
      "metadata": {
        "id": "cJohNnU-eSyQ"
      },
      "source": [
        "def NotGate(w1,th):\r\n",
        "  result=[]\r\n",
        "  for i in range(int(len(A)/2)):\r\n",
        "    sum=A[i]*w1\r\n",
        "    if (sum>=th):\r\n",
        "      result.append(0)\r\n",
        "    else:\r\n",
        "      result.append(1)\r\n",
        "  return result"
      ],
      "execution_count": null,
      "outputs": []
    },
    {
      "cell_type": "code",
      "metadata": {
        "id": "VcY_IPBue57A"
      },
      "source": [
        "def AndGate(w1,w2,th):\r\n",
        "  result=[]\r\n",
        "  for i in range(len(A)):\r\n",
        "    sum=A[i]*w1+B[i]*w2\r\n",
        "    if (sum>=2*th):\r\n",
        "      result.append(1)\r\n",
        "    else:\r\n",
        "      result.append(0)\r\n",
        "  return result"
      ],
      "execution_count": null,
      "outputs": []
    },
    {
      "cell_type": "code",
      "metadata": {
        "id": "c6vHkzsuf45Z"
      },
      "source": [
        "def NandGate(w1,w2,th):\r\n",
        "  result=[]\r\n",
        "  for i in range(len(A)):\r\n",
        "    sum=A[i]*w1+B[i]*w2\r\n",
        "    if (sum>=2*th):\r\n",
        "      result.append(0)\r\n",
        "    else:\r\n",
        "      result.append(1)\r\n",
        "  return result"
      ],
      "execution_count": null,
      "outputs": []
    },
    {
      "cell_type": "code",
      "metadata": {
        "id": "EHCqIaJ5iuIK"
      },
      "source": [
        "def NorGate(w1,w2,th):\r\n",
        "  result=[]\r\n",
        "  for i in range(len(A)):\r\n",
        "    sum=A[i]*w1+B[i]*w2\r\n",
        "    if (sum>=th):\r\n",
        "      result.append(0)\r\n",
        "    else:\r\n",
        "      result.append(1)\r\n",
        "  return result"
      ],
      "execution_count": null,
      "outputs": []
    },
    {
      "cell_type": "code",
      "metadata": {
        "id": "HJSLZzofgW1t"
      },
      "source": [
        "def XorGate(w1,w2,th):\r\n",
        "  result=[]\r\n",
        "  for i in range(len(A)):\r\n",
        "    sum=A[i]*w1+B[i]*w2\r\n",
        "    if (sum==th):\r\n",
        "      result.append(1)\r\n",
        "    else:\r\n",
        "      result.append(0)\r\n",
        "  return result"
      ],
      "execution_count": null,
      "outputs": []
    },
    {
      "cell_type": "code",
      "metadata": {
        "id": "lMoK1nIsiQDN"
      },
      "source": [
        ""
      ],
      "execution_count": null,
      "outputs": []
    }
  ]
}